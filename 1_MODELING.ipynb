{
 "cells": [
  {
   "cell_type": "code",
   "execution_count": 1,
   "id": "de6fcb65",
   "metadata": {},
   "outputs": [],
   "source": [
    "import pandas as pd\n",
    "import numpy as np\n",
    "\n",
    "from mylibs import *\n",
    "\n",
    "from sklearn.svm import SVR\n",
    "from sklearn.metrics import accuracy_score, mean_squared_error, r2_score, classification_report\n",
    "\n",
    "from sklearn.model_selection import train_test_split\n",
    "\n",
    "from sklearn.preprocessing import StandardScaler\n",
    "\n",
    "import pickle, random\n",
    "\n",
    "random.seed(73)\n",
    "\n",
    "import warnings\n",
    "warnings.filterwarnings('ignore')"
   ]
  },
  {
   "cell_type": "code",
   "execution_count": 2,
   "id": "c22ade50",
   "metadata": {},
   "outputs": [],
   "source": [
    "# Data loading\n",
    "df_sales = pd.read_csv('./dataset/Sales_Detail.csv')\n",
    "df_sales_n = pd.read_csv('./dataset/wide_qtrx.csv')\n",
    "df_sales_usd = pd.read_csv('./dataset/wide_mtrx.csv')"
   ]
  },
  {
   "cell_type": "code",
   "execution_count": 3,
   "id": "7f9bf6f0",
   "metadata": {},
   "outputs": [
    {
     "name": "stdout",
     "output_type": "stream",
     "text": [
      "541909\n"
     ]
    },
    {
     "data": {
      "text/html": [
       "<div>\n",
       "<style scoped>\n",
       "    .dataframe tbody tr th:only-of-type {\n",
       "        vertical-align: middle;\n",
       "    }\n",
       "\n",
       "    .dataframe tbody tr th {\n",
       "        vertical-align: top;\n",
       "    }\n",
       "\n",
       "    .dataframe thead th {\n",
       "        text-align: right;\n",
       "    }\n",
       "</style>\n",
       "<table border=\"1\" class=\"dataframe\">\n",
       "  <thead>\n",
       "    <tr style=\"text-align: right;\">\n",
       "      <th></th>\n",
       "      <th>InvoiceNo</th>\n",
       "      <th>StockCode</th>\n",
       "      <th>Description</th>\n",
       "      <th>Quantity</th>\n",
       "      <th>InvoiceDate</th>\n",
       "      <th>UnitPrice</th>\n",
       "      <th>CustomerID</th>\n",
       "      <th>Country</th>\n",
       "    </tr>\n",
       "  </thead>\n",
       "  <tbody>\n",
       "    <tr>\n",
       "      <th>0</th>\n",
       "      <td>536365</td>\n",
       "      <td>85123A</td>\n",
       "      <td>WHITE HANGING HEART T-LIGHT HOLDER</td>\n",
       "      <td>6</td>\n",
       "      <td>12/1/10 8:26</td>\n",
       "      <td>2.55</td>\n",
       "      <td>17850</td>\n",
       "      <td>United Kingdom</td>\n",
       "    </tr>\n",
       "    <tr>\n",
       "      <th>1</th>\n",
       "      <td>536365</td>\n",
       "      <td>71053</td>\n",
       "      <td>WHITE METAL LANTERN</td>\n",
       "      <td>6</td>\n",
       "      <td>12/1/10 8:26</td>\n",
       "      <td>3.39</td>\n",
       "      <td>17850</td>\n",
       "      <td>United Kingdom</td>\n",
       "    </tr>\n",
       "  </tbody>\n",
       "</table>\n",
       "</div>"
      ],
      "text/plain": [
       "  InvoiceNo StockCode                         Description  Quantity  \\\n",
       "0    536365    85123A  WHITE HANGING HEART T-LIGHT HOLDER         6   \n",
       "1    536365     71053                 WHITE METAL LANTERN         6   \n",
       "\n",
       "    InvoiceDate  UnitPrice  CustomerID         Country  \n",
       "0  12/1/10 8:26       2.55       17850  United Kingdom  \n",
       "1  12/1/10 8:26       3.39       17850  United Kingdom  "
      ]
     },
     "execution_count": 3,
     "metadata": {},
     "output_type": "execute_result"
    }
   ],
   "source": [
    "print(len(df_sales))\n",
    "df_sales.head(2)"
   ]
  },
  {
   "cell_type": "code",
   "execution_count": 4,
   "id": "569abc31",
   "metadata": {},
   "outputs": [
    {
     "data": {
      "text/html": [
       "<div>\n",
       "<style scoped>\n",
       "    .dataframe tbody tr th:only-of-type {\n",
       "        vertical-align: middle;\n",
       "    }\n",
       "\n",
       "    .dataframe tbody tr th {\n",
       "        vertical-align: top;\n",
       "    }\n",
       "\n",
       "    .dataframe thead th {\n",
       "        text-align: right;\n",
       "    }\n",
       "</style>\n",
       "<table border=\"1\" class=\"dataframe\">\n",
       "  <thead>\n",
       "    <tr style=\"text-align: right;\">\n",
       "      <th></th>\n",
       "      <th>CustomerID</th>\n",
       "      <th>201012</th>\n",
       "      <th>201101</th>\n",
       "      <th>201102</th>\n",
       "      <th>201103</th>\n",
       "      <th>201104</th>\n",
       "      <th>201105</th>\n",
       "      <th>201106</th>\n",
       "      <th>201107</th>\n",
       "      <th>201108</th>\n",
       "      <th>201109</th>\n",
       "      <th>201110</th>\n",
       "      <th>201111</th>\n",
       "      <th>201112</th>\n",
       "    </tr>\n",
       "  </thead>\n",
       "  <tbody>\n",
       "    <tr>\n",
       "      <th>0</th>\n",
       "      <td>12346</td>\n",
       "      <td>0</td>\n",
       "      <td>2</td>\n",
       "      <td>0</td>\n",
       "      <td>0</td>\n",
       "      <td>0</td>\n",
       "      <td>0</td>\n",
       "      <td>0</td>\n",
       "      <td>0</td>\n",
       "      <td>0</td>\n",
       "      <td>0</td>\n",
       "      <td>0</td>\n",
       "      <td>0</td>\n",
       "      <td>0</td>\n",
       "    </tr>\n",
       "    <tr>\n",
       "      <th>1</th>\n",
       "      <td>12347</td>\n",
       "      <td>1</td>\n",
       "      <td>1</td>\n",
       "      <td>0</td>\n",
       "      <td>0</td>\n",
       "      <td>1</td>\n",
       "      <td>0</td>\n",
       "      <td>1</td>\n",
       "      <td>0</td>\n",
       "      <td>1</td>\n",
       "      <td>0</td>\n",
       "      <td>1</td>\n",
       "      <td>0</td>\n",
       "      <td>1</td>\n",
       "    </tr>\n",
       "  </tbody>\n",
       "</table>\n",
       "</div>"
      ],
      "text/plain": [
       "   CustomerID  201012  201101  201102  201103  201104  201105  201106  201107  \\\n",
       "0       12346       0       2       0       0       0       0       0       0   \n",
       "1       12347       1       1       0       0       1       0       1       0   \n",
       "\n",
       "   201108  201109  201110  201111  201112  \n",
       "0       0       0       0       0       0  \n",
       "1       1       0       1       0       1  "
      ]
     },
     "execution_count": 4,
     "metadata": {},
     "output_type": "execute_result"
    }
   ],
   "source": [
    "df_sales_n.head(2)"
   ]
  },
  {
   "cell_type": "code",
   "execution_count": 5,
   "id": "f8f6a870",
   "metadata": {},
   "outputs": [
    {
     "data": {
      "text/html": [
       "<div>\n",
       "<style scoped>\n",
       "    .dataframe tbody tr th:only-of-type {\n",
       "        vertical-align: middle;\n",
       "    }\n",
       "\n",
       "    .dataframe tbody tr th {\n",
       "        vertical-align: top;\n",
       "    }\n",
       "\n",
       "    .dataframe thead th {\n",
       "        text-align: right;\n",
       "    }\n",
       "</style>\n",
       "<table border=\"1\" class=\"dataframe\">\n",
       "  <thead>\n",
       "    <tr style=\"text-align: right;\">\n",
       "      <th></th>\n",
       "      <th>CustomerID</th>\n",
       "      <th>201012</th>\n",
       "      <th>201101</th>\n",
       "      <th>201102</th>\n",
       "      <th>201103</th>\n",
       "      <th>201104</th>\n",
       "      <th>201105</th>\n",
       "      <th>201106</th>\n",
       "      <th>201107</th>\n",
       "      <th>201108</th>\n",
       "      <th>201109</th>\n",
       "      <th>201110</th>\n",
       "      <th>201111</th>\n",
       "      <th>201112</th>\n",
       "    </tr>\n",
       "  </thead>\n",
       "  <tbody>\n",
       "    <tr>\n",
       "      <th>0</th>\n",
       "      <td>12346</td>\n",
       "      <td>0.00</td>\n",
       "      <td>0.00</td>\n",
       "      <td>0.0</td>\n",
       "      <td>0.0</td>\n",
       "      <td>0.00</td>\n",
       "      <td>0.0</td>\n",
       "      <td>0.00</td>\n",
       "      <td>0.0</td>\n",
       "      <td>0.00</td>\n",
       "      <td>0.0</td>\n",
       "      <td>0.00</td>\n",
       "      <td>0.0</td>\n",
       "      <td>0.00</td>\n",
       "    </tr>\n",
       "    <tr>\n",
       "      <th>1</th>\n",
       "      <td>12347</td>\n",
       "      <td>711.79</td>\n",
       "      <td>475.39</td>\n",
       "      <td>0.0</td>\n",
       "      <td>0.0</td>\n",
       "      <td>636.25</td>\n",
       "      <td>0.0</td>\n",
       "      <td>382.52</td>\n",
       "      <td>0.0</td>\n",
       "      <td>584.91</td>\n",
       "      <td>0.0</td>\n",
       "      <td>1294.32</td>\n",
       "      <td>0.0</td>\n",
       "      <td>224.82</td>\n",
       "    </tr>\n",
       "  </tbody>\n",
       "</table>\n",
       "</div>"
      ],
      "text/plain": [
       "   CustomerID  201012  201101  201102  201103  201104  201105  201106  201107  \\\n",
       "0       12346    0.00    0.00     0.0     0.0    0.00     0.0    0.00     0.0   \n",
       "1       12347  711.79  475.39     0.0     0.0  636.25     0.0  382.52     0.0   \n",
       "\n",
       "   201108  201109   201110  201111  201112  \n",
       "0    0.00     0.0     0.00     0.0    0.00  \n",
       "1  584.91     0.0  1294.32     0.0  224.82  "
      ]
     },
     "execution_count": 5,
     "metadata": {},
     "output_type": "execute_result"
    }
   ],
   "source": [
    "df_sales_usd.head(2)"
   ]
  },
  {
   "cell_type": "code",
   "execution_count": 6,
   "id": "1fbbb464",
   "metadata": {},
   "outputs": [
    {
     "data": {
      "text/html": [
       "<div>\n",
       "<style scoped>\n",
       "    .dataframe tbody tr th:only-of-type {\n",
       "        vertical-align: middle;\n",
       "    }\n",
       "\n",
       "    .dataframe tbody tr th {\n",
       "        vertical-align: top;\n",
       "    }\n",
       "\n",
       "    .dataframe thead th {\n",
       "        text-align: right;\n",
       "    }\n",
       "</style>\n",
       "<table border=\"1\" class=\"dataframe\">\n",
       "  <thead>\n",
       "    <tr style=\"text-align: right;\">\n",
       "      <th></th>\n",
       "      <th>CustomerID</th>\n",
       "      <th>Country</th>\n",
       "      <th>Description</th>\n",
       "      <th>Quantity</th>\n",
       "      <th>tot_invoice</th>\n",
       "      <th>Dates</th>\n",
       "    </tr>\n",
       "  </thead>\n",
       "  <tbody>\n",
       "    <tr>\n",
       "      <th>0</th>\n",
       "      <td>17850</td>\n",
       "      <td>United Kingdom</td>\n",
       "      <td>WHITE HANGING HEART T-LIGHT HOLDER</td>\n",
       "      <td>6</td>\n",
       "      <td>15.30</td>\n",
       "      <td>2010-12-01</td>\n",
       "    </tr>\n",
       "    <tr>\n",
       "      <th>1</th>\n",
       "      <td>17850</td>\n",
       "      <td>United Kingdom</td>\n",
       "      <td>WHITE METAL LANTERN</td>\n",
       "      <td>6</td>\n",
       "      <td>20.34</td>\n",
       "      <td>2010-12-01</td>\n",
       "    </tr>\n",
       "    <tr>\n",
       "      <th>2</th>\n",
       "      <td>17850</td>\n",
       "      <td>United Kingdom</td>\n",
       "      <td>CREAM CUPID HEARTS COAT HANGER</td>\n",
       "      <td>8</td>\n",
       "      <td>22.00</td>\n",
       "      <td>2010-12-01</td>\n",
       "    </tr>\n",
       "    <tr>\n",
       "      <th>3</th>\n",
       "      <td>17850</td>\n",
       "      <td>United Kingdom</td>\n",
       "      <td>KNITTED UNION FLAG HOT WATER BOTTLE</td>\n",
       "      <td>6</td>\n",
       "      <td>20.34</td>\n",
       "      <td>2010-12-01</td>\n",
       "    </tr>\n",
       "    <tr>\n",
       "      <th>4</th>\n",
       "      <td>17850</td>\n",
       "      <td>United Kingdom</td>\n",
       "      <td>RED WOOLLY HOTTIE WHITE HEART.</td>\n",
       "      <td>6</td>\n",
       "      <td>20.34</td>\n",
       "      <td>2010-12-01</td>\n",
       "    </tr>\n",
       "    <tr>\n",
       "      <th>...</th>\n",
       "      <td>...</td>\n",
       "      <td>...</td>\n",
       "      <td>...</td>\n",
       "      <td>...</td>\n",
       "      <td>...</td>\n",
       "      <td>...</td>\n",
       "    </tr>\n",
       "    <tr>\n",
       "      <th>541904</th>\n",
       "      <td>14397</td>\n",
       "      <td>United Kingdom</td>\n",
       "      <td>ZINC T-LIGHT HOLDER STARS SMALL</td>\n",
       "      <td>-11</td>\n",
       "      <td>-9.13</td>\n",
       "      <td>2011-12-09</td>\n",
       "    </tr>\n",
       "    <tr>\n",
       "      <th>541905</th>\n",
       "      <td>15498</td>\n",
       "      <td>United Kingdom</td>\n",
       "      <td>Manual</td>\n",
       "      <td>-1</td>\n",
       "      <td>-224.69</td>\n",
       "      <td>2011-12-09</td>\n",
       "    </tr>\n",
       "    <tr>\n",
       "      <th>541906</th>\n",
       "      <td>15311</td>\n",
       "      <td>United Kingdom</td>\n",
       "      <td>VICTORIAN SEWING BOX LARGE</td>\n",
       "      <td>-5</td>\n",
       "      <td>-54.75</td>\n",
       "      <td>2011-12-09</td>\n",
       "    </tr>\n",
       "    <tr>\n",
       "      <th>541907</th>\n",
       "      <td>17315</td>\n",
       "      <td>United Kingdom</td>\n",
       "      <td>HANGING HEART JAR T-LIGHT HOLDER</td>\n",
       "      <td>-1</td>\n",
       "      <td>-1.25</td>\n",
       "      <td>2011-12-09</td>\n",
       "    </tr>\n",
       "    <tr>\n",
       "      <th>541908</th>\n",
       "      <td>17315</td>\n",
       "      <td>United Kingdom</td>\n",
       "      <td>36 PENCILS TUBE RED RETROSPOT</td>\n",
       "      <td>-5</td>\n",
       "      <td>-6.25</td>\n",
       "      <td>2011-12-09</td>\n",
       "    </tr>\n",
       "  </tbody>\n",
       "</table>\n",
       "<p>541909 rows × 6 columns</p>\n",
       "</div>"
      ],
      "text/plain": [
       "        CustomerID         Country                          Description  \\\n",
       "0            17850  United Kingdom   WHITE HANGING HEART T-LIGHT HOLDER   \n",
       "1            17850  United Kingdom                  WHITE METAL LANTERN   \n",
       "2            17850  United Kingdom       CREAM CUPID HEARTS COAT HANGER   \n",
       "3            17850  United Kingdom  KNITTED UNION FLAG HOT WATER BOTTLE   \n",
       "4            17850  United Kingdom       RED WOOLLY HOTTIE WHITE HEART.   \n",
       "...            ...             ...                                  ...   \n",
       "541904       14397  United Kingdom      ZINC T-LIGHT HOLDER STARS SMALL   \n",
       "541905       15498  United Kingdom                               Manual   \n",
       "541906       15311  United Kingdom           VICTORIAN SEWING BOX LARGE   \n",
       "541907       17315  United Kingdom     HANGING HEART JAR T-LIGHT HOLDER   \n",
       "541908       17315  United Kingdom        36 PENCILS TUBE RED RETROSPOT   \n",
       "\n",
       "        Quantity  tot_invoice      Dates  \n",
       "0              6        15.30 2010-12-01  \n",
       "1              6        20.34 2010-12-01  \n",
       "2              8        22.00 2010-12-01  \n",
       "3              6        20.34 2010-12-01  \n",
       "4              6        20.34 2010-12-01  \n",
       "...          ...          ...        ...  \n",
       "541904       -11        -9.13 2011-12-09  \n",
       "541905        -1      -224.69 2011-12-09  \n",
       "541906        -5       -54.75 2011-12-09  \n",
       "541907        -1        -1.25 2011-12-09  \n",
       "541908        -5        -6.25 2011-12-09  \n",
       "\n",
       "[541909 rows x 6 columns]"
      ]
     },
     "execution_count": 6,
     "metadata": {},
     "output_type": "execute_result"
    }
   ],
   "source": [
    "df_sales = df_sales[df_sales['CustomerID'].isin(df_sales_n['CustomerID'].to_list())]\n",
    "df_sales['tot_invoice'] = df_sales['Quantity']*df_sales['UnitPrice']\n",
    "df_sales['Dates'] = pd.to_datetime(df_sales['InvoiceDate']).dt.date\n",
    "df_sales[[\"Dates\"]] = df_sales[[\"Dates\"]].apply(pd.to_datetime)\n",
    "\n",
    "df_filt = df_sales[['CustomerID', 'Country', 'Description', 'Quantity', 'tot_invoice', 'Dates']]\n",
    "df_filt"
   ]
  },
  {
   "cell_type": "markdown",
   "id": "c6f452e4",
   "metadata": {},
   "source": [
    "# Modeling case 1"
   ]
  },
  {
   "cell_type": "markdown",
   "id": "1d154b1e",
   "metadata": {},
   "source": [
    "# R"
   ]
  },
  {
   "cell_type": "code",
   "execution_count": 7,
   "id": "27685914",
   "metadata": {},
   "outputs": [
    {
     "name": "stdout",
     "output_type": "stream",
     "text": [
      "2011-09-30\n"
     ]
    },
    {
     "data": {
      "text/html": [
       "<div>\n",
       "<style scoped>\n",
       "    .dataframe tbody tr th:only-of-type {\n",
       "        vertical-align: middle;\n",
       "    }\n",
       "\n",
       "    .dataframe tbody tr th {\n",
       "        vertical-align: top;\n",
       "    }\n",
       "\n",
       "    .dataframe thead th {\n",
       "        text-align: right;\n",
       "    }\n",
       "</style>\n",
       "<table border=\"1\" class=\"dataframe\">\n",
       "  <thead>\n",
       "    <tr style=\"text-align: right;\">\n",
       "      <th></th>\n",
       "      <th>CustomerID</th>\n",
       "      <th>days</th>\n",
       "    </tr>\n",
       "  </thead>\n",
       "  <tbody>\n",
       "    <tr>\n",
       "      <th>195164</th>\n",
       "      <td>18287</td>\n",
       "      <td>131</td>\n",
       "    </tr>\n",
       "    <tr>\n",
       "      <th>320740</th>\n",
       "      <td>18283</td>\n",
       "      <td>25</td>\n",
       "    </tr>\n",
       "    <tr>\n",
       "      <th>538007</th>\n",
       "      <td>18282</td>\n",
       "      <td>52</td>\n",
       "    </tr>\n",
       "    <tr>\n",
       "      <th>218939</th>\n",
       "      <td>18281</td>\n",
       "      <td>110</td>\n",
       "    </tr>\n",
       "    <tr>\n",
       "      <th>355985</th>\n",
       "      <td>18278</td>\n",
       "      <td>3</td>\n",
       "    </tr>\n",
       "    <tr>\n",
       "      <th>...</th>\n",
       "      <td>...</td>\n",
       "      <td>...</td>\n",
       "    </tr>\n",
       "    <tr>\n",
       "      <th>163261</th>\n",
       "      <td>12354</td>\n",
       "      <td>162</td>\n",
       "    </tr>\n",
       "    <tr>\n",
       "      <th>193835</th>\n",
       "      <td>12353</td>\n",
       "      <td>134</td>\n",
       "    </tr>\n",
       "    <tr>\n",
       "      <th>358613</th>\n",
       "      <td>12352</td>\n",
       "      <td>2</td>\n",
       "    </tr>\n",
       "    <tr>\n",
       "      <th>352596</th>\n",
       "      <td>12348</td>\n",
       "      <td>5</td>\n",
       "    </tr>\n",
       "    <tr>\n",
       "      <th>281458</th>\n",
       "      <td>12347</td>\n",
       "      <td>59</td>\n",
       "    </tr>\n",
       "  </tbody>\n",
       "</table>\n",
       "<p>2974 rows × 2 columns</p>\n",
       "</div>"
      ],
      "text/plain": [
       "        CustomerID  days\n",
       "195164       18287   131\n",
       "320740       18283    25\n",
       "538007       18282    52\n",
       "218939       18281   110\n",
       "355985       18278     3\n",
       "...            ...   ...\n",
       "163261       12354   162\n",
       "193835       12353   134\n",
       "358613       12352     2\n",
       "352596       12348     5\n",
       "281458       12347    59\n",
       "\n",
       "[2974 rows x 2 columns]"
      ]
     },
     "execution_count": 7,
     "metadata": {},
     "output_type": "execute_result"
    }
   ],
   "source": [
    "#a_df = df_sales[(df_sales['Dates'] < '2011-10-01') and (df_sales['Dates'] < '2011-04-01')]\n",
    "a_df = df_sales[(df_sales['Dates'] <= '2011-10-01')]\n",
    "a_df = a_df[(a_df['Dates'] >= '2011-04-01')]\n",
    "\n",
    "df_daily_sort = a_df.sort_values(['CustomerID', 'Dates'], ascending = [False, True])\n",
    "ct = a_df.Dates.max().date()\n",
    "\n",
    "print(ct)\n",
    "\n",
    "df_last_transaction = df_daily_sort.drop_duplicates(['CustomerID'],keep= 'last')\n",
    "df_last_transaction['days'] = df_last_transaction['Dates'].dt.date\n",
    "df_last_transaction['days'] = ct - df_last_transaction['days']\n",
    "df_last_transaction['days'] = df_last_transaction['days'].dt.days.astype('int16')\n",
    "\n",
    "df_r = df_last_transaction[['CustomerID', 'days']]\n",
    "df_r"
   ]
  },
  {
   "cell_type": "markdown",
   "id": "cae0e827",
   "metadata": {},
   "source": [
    "# M"
   ]
  },
  {
   "cell_type": "code",
   "execution_count": 8,
   "id": "68840d0b",
   "metadata": {},
   "outputs": [
    {
     "data": {
      "text/html": [
       "<div>\n",
       "<style scoped>\n",
       "    .dataframe tbody tr th:only-of-type {\n",
       "        vertical-align: middle;\n",
       "    }\n",
       "\n",
       "    .dataframe tbody tr th {\n",
       "        vertical-align: top;\n",
       "    }\n",
       "\n",
       "    .dataframe thead th {\n",
       "        text-align: right;\n",
       "    }\n",
       "</style>\n",
       "<table border=\"1\" class=\"dataframe\">\n",
       "  <thead>\n",
       "    <tr style=\"text-align: right;\">\n",
       "      <th></th>\n",
       "      <th>CustomerID</th>\n",
       "      <th>monetary</th>\n",
       "    </tr>\n",
       "  </thead>\n",
       "  <tbody>\n",
       "    <tr>\n",
       "      <th>0</th>\n",
       "      <td>12347</td>\n",
       "      <td>1603.68</td>\n",
       "    </tr>\n",
       "    <tr>\n",
       "      <th>1</th>\n",
       "      <td>12348</td>\n",
       "      <td>677.00</td>\n",
       "    </tr>\n",
       "    <tr>\n",
       "      <th>2</th>\n",
       "      <td>12352</td>\n",
       "      <td>632.50</td>\n",
       "    </tr>\n",
       "    <tr>\n",
       "      <th>3</th>\n",
       "      <td>12353</td>\n",
       "      <td>89.00</td>\n",
       "    </tr>\n",
       "    <tr>\n",
       "      <th>4</th>\n",
       "      <td>12354</td>\n",
       "      <td>1079.40</td>\n",
       "    </tr>\n",
       "    <tr>\n",
       "      <th>...</th>\n",
       "      <td>...</td>\n",
       "      <td>...</td>\n",
       "    </tr>\n",
       "    <tr>\n",
       "      <th>2969</th>\n",
       "      <td>18278</td>\n",
       "      <td>173.90</td>\n",
       "    </tr>\n",
       "    <tr>\n",
       "      <th>2970</th>\n",
       "      <td>18281</td>\n",
       "      <td>80.82</td>\n",
       "    </tr>\n",
       "    <tr>\n",
       "      <th>2971</th>\n",
       "      <td>18282</td>\n",
       "      <td>98.76</td>\n",
       "    </tr>\n",
       "    <tr>\n",
       "      <th>2972</th>\n",
       "      <td>18283</td>\n",
       "      <td>802.77</td>\n",
       "    </tr>\n",
       "    <tr>\n",
       "      <th>2973</th>\n",
       "      <td>18287</td>\n",
       "      <td>765.28</td>\n",
       "    </tr>\n",
       "  </tbody>\n",
       "</table>\n",
       "<p>2974 rows × 2 columns</p>\n",
       "</div>"
      ],
      "text/plain": [
       "      CustomerID  monetary\n",
       "0          12347   1603.68\n",
       "1          12348    677.00\n",
       "2          12352    632.50\n",
       "3          12353     89.00\n",
       "4          12354   1079.40\n",
       "...          ...       ...\n",
       "2969       18278    173.90\n",
       "2970       18281     80.82\n",
       "2971       18282     98.76\n",
       "2972       18283    802.77\n",
       "2973       18287    765.28\n",
       "\n",
       "[2974 rows x 2 columns]"
      ]
     },
     "execution_count": 8,
     "metadata": {},
     "output_type": "execute_result"
    }
   ],
   "source": [
    "df_daily_sort = a_df.sort_values(['CustomerID', 'Dates'], ascending = [False, True])\n",
    "df_monetary = df_daily_sort.groupby(['CustomerID'])['tot_invoice'].sum()\n",
    "df_m = df_monetary.to_frame().reset_index()\n",
    "df_m.columns = ['CustomerID', 'monetary']\n",
    "df_m"
   ]
  },
  {
   "cell_type": "code",
   "execution_count": 9,
   "id": "f88e866e",
   "metadata": {},
   "outputs": [
    {
     "data": {
      "text/html": [
       "<div>\n",
       "<style scoped>\n",
       "    .dataframe tbody tr th:only-of-type {\n",
       "        vertical-align: middle;\n",
       "    }\n",
       "\n",
       "    .dataframe tbody tr th {\n",
       "        vertical-align: top;\n",
       "    }\n",
       "\n",
       "    .dataframe thead th {\n",
       "        text-align: right;\n",
       "    }\n",
       "</style>\n",
       "<table border=\"1\" class=\"dataframe\">\n",
       "  <thead>\n",
       "    <tr style=\"text-align: right;\">\n",
       "      <th></th>\n",
       "      <th>CustomerID</th>\n",
       "      <th>days</th>\n",
       "      <th>monetary</th>\n",
       "    </tr>\n",
       "  </thead>\n",
       "  <tbody>\n",
       "    <tr>\n",
       "      <th>0</th>\n",
       "      <td>18287</td>\n",
       "      <td>131</td>\n",
       "      <td>765.28</td>\n",
       "    </tr>\n",
       "    <tr>\n",
       "      <th>1</th>\n",
       "      <td>18283</td>\n",
       "      <td>25</td>\n",
       "      <td>802.77</td>\n",
       "    </tr>\n",
       "    <tr>\n",
       "      <th>2</th>\n",
       "      <td>18282</td>\n",
       "      <td>52</td>\n",
       "      <td>98.76</td>\n",
       "    </tr>\n",
       "    <tr>\n",
       "      <th>3</th>\n",
       "      <td>18281</td>\n",
       "      <td>110</td>\n",
       "      <td>80.82</td>\n",
       "    </tr>\n",
       "    <tr>\n",
       "      <th>4</th>\n",
       "      <td>18278</td>\n",
       "      <td>3</td>\n",
       "      <td>173.90</td>\n",
       "    </tr>\n",
       "    <tr>\n",
       "      <th>...</th>\n",
       "      <td>...</td>\n",
       "      <td>...</td>\n",
       "      <td>...</td>\n",
       "    </tr>\n",
       "    <tr>\n",
       "      <th>2969</th>\n",
       "      <td>12354</td>\n",
       "      <td>162</td>\n",
       "      <td>1079.40</td>\n",
       "    </tr>\n",
       "    <tr>\n",
       "      <th>2970</th>\n",
       "      <td>12353</td>\n",
       "      <td>134</td>\n",
       "      <td>89.00</td>\n",
       "    </tr>\n",
       "    <tr>\n",
       "      <th>2971</th>\n",
       "      <td>12352</td>\n",
       "      <td>2</td>\n",
       "      <td>632.50</td>\n",
       "    </tr>\n",
       "    <tr>\n",
       "      <th>2972</th>\n",
       "      <td>12348</td>\n",
       "      <td>5</td>\n",
       "      <td>677.00</td>\n",
       "    </tr>\n",
       "    <tr>\n",
       "      <th>2973</th>\n",
       "      <td>12347</td>\n",
       "      <td>59</td>\n",
       "      <td>1603.68</td>\n",
       "    </tr>\n",
       "  </tbody>\n",
       "</table>\n",
       "<p>2974 rows × 3 columns</p>\n",
       "</div>"
      ],
      "text/plain": [
       "      CustomerID  days  monetary\n",
       "0          18287   131    765.28\n",
       "1          18283    25    802.77\n",
       "2          18282    52     98.76\n",
       "3          18281   110     80.82\n",
       "4          18278     3    173.90\n",
       "...          ...   ...       ...\n",
       "2969       12354   162   1079.40\n",
       "2970       12353   134     89.00\n",
       "2971       12352     2    632.50\n",
       "2972       12348     5    677.00\n",
       "2973       12347    59   1603.68\n",
       "\n",
       "[2974 rows x 3 columns]"
      ]
     },
     "execution_count": 9,
     "metadata": {},
     "output_type": "execute_result"
    }
   ],
   "source": [
    "# inner join\n",
    "df_rm = pd.merge(df_r, df_m, on='CustomerID', how='inner')\n",
    "df_rm"
   ]
  },
  {
   "cell_type": "code",
   "execution_count": 10,
   "id": "55d956a2",
   "metadata": {},
   "outputs": [
    {
     "data": {
      "text/html": [
       "<div>\n",
       "<style scoped>\n",
       "    .dataframe tbody tr th:only-of-type {\n",
       "        vertical-align: middle;\n",
       "    }\n",
       "\n",
       "    .dataframe tbody tr th {\n",
       "        vertical-align: top;\n",
       "    }\n",
       "\n",
       "    .dataframe thead th {\n",
       "        text-align: right;\n",
       "    }\n",
       "</style>\n",
       "<table border=\"1\" class=\"dataframe\">\n",
       "  <thead>\n",
       "    <tr style=\"text-align: right;\">\n",
       "      <th></th>\n",
       "      <th>CustomerID</th>\n",
       "      <th>days</th>\n",
       "      <th>monetary</th>\n",
       "    </tr>\n",
       "  </thead>\n",
       "  <tbody>\n",
       "    <tr>\n",
       "      <th>count</th>\n",
       "      <td>2974.000000</td>\n",
       "      <td>2974.000000</td>\n",
       "      <td>2974.000000</td>\n",
       "    </tr>\n",
       "    <tr>\n",
       "      <th>mean</th>\n",
       "      <td>15274.802959</td>\n",
       "      <td>56.813046</td>\n",
       "      <td>1442.949561</td>\n",
       "    </tr>\n",
       "    <tr>\n",
       "      <th>std</th>\n",
       "      <td>1723.471292</td>\n",
       "      <td>51.991332</td>\n",
       "      <td>10212.059599</td>\n",
       "    </tr>\n",
       "    <tr>\n",
       "      <th>min</th>\n",
       "      <td>12347.000000</td>\n",
       "      <td>0.000000</td>\n",
       "      <td>-4287.630000</td>\n",
       "    </tr>\n",
       "    <tr>\n",
       "      <th>25%</th>\n",
       "      <td>13780.250000</td>\n",
       "      <td>11.000000</td>\n",
       "      <td>257.962500</td>\n",
       "    </tr>\n",
       "    <tr>\n",
       "      <th>50%</th>\n",
       "      <td>15246.500000</td>\n",
       "      <td>39.000000</td>\n",
       "      <td>517.800000</td>\n",
       "    </tr>\n",
       "    <tr>\n",
       "      <th>75%</th>\n",
       "      <td>16755.750000</td>\n",
       "      <td>94.000000</td>\n",
       "      <td>1145.280000</td>\n",
       "    </tr>\n",
       "    <tr>\n",
       "      <th>max</th>\n",
       "      <td>18287.000000</td>\n",
       "      <td>182.000000</td>\n",
       "      <td>487314.030000</td>\n",
       "    </tr>\n",
       "  </tbody>\n",
       "</table>\n",
       "</div>"
      ],
      "text/plain": [
       "         CustomerID         days       monetary\n",
       "count   2974.000000  2974.000000    2974.000000\n",
       "mean   15274.802959    56.813046    1442.949561\n",
       "std     1723.471292    51.991332   10212.059599\n",
       "min    12347.000000     0.000000   -4287.630000\n",
       "25%    13780.250000    11.000000     257.962500\n",
       "50%    15246.500000    39.000000     517.800000\n",
       "75%    16755.750000    94.000000    1145.280000\n",
       "max    18287.000000   182.000000  487314.030000"
      ]
     },
     "execution_count": 10,
     "metadata": {},
     "output_type": "execute_result"
    }
   ],
   "source": [
    "df_rm.describe()"
   ]
  },
  {
   "cell_type": "code",
   "execution_count": 11,
   "id": "9af60712",
   "metadata": {},
   "outputs": [
    {
     "data": {
      "text/html": [
       "<div>\n",
       "<style scoped>\n",
       "    .dataframe tbody tr th:only-of-type {\n",
       "        vertical-align: middle;\n",
       "    }\n",
       "\n",
       "    .dataframe tbody tr th {\n",
       "        vertical-align: top;\n",
       "    }\n",
       "\n",
       "    .dataframe thead th {\n",
       "        text-align: right;\n",
       "    }\n",
       "</style>\n",
       "<table border=\"1\" class=\"dataframe\">\n",
       "  <thead>\n",
       "    <tr style=\"text-align: right;\">\n",
       "      <th></th>\n",
       "      <th>CustomerID</th>\n",
       "      <th>days</th>\n",
       "      <th>monetary</th>\n",
       "      <th>r</th>\n",
       "      <th>m</th>\n",
       "      <th>class</th>\n",
       "    </tr>\n",
       "  </thead>\n",
       "  <tbody>\n",
       "    <tr>\n",
       "      <th>0</th>\n",
       "      <td>18287</td>\n",
       "      <td>131</td>\n",
       "      <td>765.28</td>\n",
       "      <td>0</td>\n",
       "      <td>0</td>\n",
       "      <td>C</td>\n",
       "    </tr>\n",
       "    <tr>\n",
       "      <th>1</th>\n",
       "      <td>18283</td>\n",
       "      <td>25</td>\n",
       "      <td>802.77</td>\n",
       "      <td>1</td>\n",
       "      <td>0</td>\n",
       "      <td>B</td>\n",
       "    </tr>\n",
       "    <tr>\n",
       "      <th>2</th>\n",
       "      <td>18282</td>\n",
       "      <td>52</td>\n",
       "      <td>98.76</td>\n",
       "      <td>1</td>\n",
       "      <td>0</td>\n",
       "      <td>B</td>\n",
       "    </tr>\n",
       "    <tr>\n",
       "      <th>3</th>\n",
       "      <td>18281</td>\n",
       "      <td>110</td>\n",
       "      <td>80.82</td>\n",
       "      <td>0</td>\n",
       "      <td>0</td>\n",
       "      <td>C</td>\n",
       "    </tr>\n",
       "    <tr>\n",
       "      <th>4</th>\n",
       "      <td>18278</td>\n",
       "      <td>3</td>\n",
       "      <td>173.90</td>\n",
       "      <td>1</td>\n",
       "      <td>0</td>\n",
       "      <td>B</td>\n",
       "    </tr>\n",
       "    <tr>\n",
       "      <th>...</th>\n",
       "      <td>...</td>\n",
       "      <td>...</td>\n",
       "      <td>...</td>\n",
       "      <td>...</td>\n",
       "      <td>...</td>\n",
       "      <td>...</td>\n",
       "    </tr>\n",
       "    <tr>\n",
       "      <th>2969</th>\n",
       "      <td>12354</td>\n",
       "      <td>162</td>\n",
       "      <td>1079.40</td>\n",
       "      <td>0</td>\n",
       "      <td>0</td>\n",
       "      <td>C</td>\n",
       "    </tr>\n",
       "    <tr>\n",
       "      <th>2970</th>\n",
       "      <td>12353</td>\n",
       "      <td>134</td>\n",
       "      <td>89.00</td>\n",
       "      <td>0</td>\n",
       "      <td>0</td>\n",
       "      <td>C</td>\n",
       "    </tr>\n",
       "    <tr>\n",
       "      <th>2971</th>\n",
       "      <td>12352</td>\n",
       "      <td>2</td>\n",
       "      <td>632.50</td>\n",
       "      <td>1</td>\n",
       "      <td>0</td>\n",
       "      <td>B</td>\n",
       "    </tr>\n",
       "    <tr>\n",
       "      <th>2972</th>\n",
       "      <td>12348</td>\n",
       "      <td>5</td>\n",
       "      <td>677.00</td>\n",
       "      <td>1</td>\n",
       "      <td>0</td>\n",
       "      <td>B</td>\n",
       "    </tr>\n",
       "    <tr>\n",
       "      <th>2973</th>\n",
       "      <td>12347</td>\n",
       "      <td>59</td>\n",
       "      <td>1603.68</td>\n",
       "      <td>0</td>\n",
       "      <td>0</td>\n",
       "      <td>C</td>\n",
       "    </tr>\n",
       "  </tbody>\n",
       "</table>\n",
       "<p>2974 rows × 6 columns</p>\n",
       "</div>"
      ],
      "text/plain": [
       "      CustomerID  days  monetary  r  m class\n",
       "0          18287   131    765.28  0  0     C\n",
       "1          18283    25    802.77  1  0     B\n",
       "2          18282    52     98.76  1  0     B\n",
       "3          18281   110     80.82  0  0     C\n",
       "4          18278     3    173.90  1  0     B\n",
       "...          ...   ...       ... .. ..   ...\n",
       "2969       12354   162   1079.40  0  0     C\n",
       "2970       12353   134     89.00  0  0     C\n",
       "2971       12352     2    632.50  1  0     B\n",
       "2972       12348     5    677.00  1  0     B\n",
       "2973       12347    59   1603.68  0  0     C\n",
       "\n",
       "[2974 rows x 6 columns]"
      ]
     },
     "execution_count": 11,
     "metadata": {},
     "output_type": "execute_result"
    }
   ],
   "source": [
    "df_rm['r'] = [0 if x >= 57 else 1 for x in df_rm['days']]\n",
    "df_rm['m'] = [0 if x <= 12000 else 1 for x in df_rm['monetary']]\n",
    "\n",
    "y_client = []\n",
    "\n",
    "for x in range(len(df_rm)):\n",
    "    #print(df_rm['r'].iloc[0])\n",
    "    if (df_rm['r'].iloc[x] == 0) and (df_rm['m'].iloc[x] == 0):\n",
    "        y_client.append('C')\n",
    "    elif (df_rm['r'].iloc[x] == 0) and (df_rm['m'].iloc[x] == 1):\n",
    "        y_client.append('B')\n",
    "    elif (df_rm['r'].iloc[x] == 1) and (df_rm['m'].iloc[x] == 0):\n",
    "        y_client.append('B')\n",
    "    elif (df_rm['r'].iloc[x] == 1) and (df_rm['m'].iloc[x] == 1):\n",
    "        y_client.append('A')\n",
    "        \n",
    "df_rm['class'] = y_client\n",
    "df_rm"
   ]
  },
  {
   "cell_type": "markdown",
   "id": "22d45a8c",
   "metadata": {},
   "source": [
    "# Building the data"
   ]
  },
  {
   "cell_type": "code",
   "execution_count": 12,
   "id": "7561586b",
   "metadata": {},
   "outputs": [],
   "source": [
    "x = df_sales_n[['201104',\n",
    "       '201105', '201106', '201107', '201108', '201109']]\n",
    "y = df_sales_n['201110'].to_list()"
   ]
  },
  {
   "cell_type": "code",
   "execution_count": 13,
   "id": "fe1091a9",
   "metadata": {},
   "outputs": [],
   "source": [
    "y_true = []\n",
    "\n",
    "for i in range(len(y)):\n",
    "    b_units = x['201108'].iloc[i] + x['201109'].iloc[i]   \n",
    "    #if y[i]>0 or b_units>0: y_true.append(1)\n",
    "    if y[i]>0: y_true.append(1)\n",
    "    else: y_true.append(0)"
   ]
  },
  {
   "cell_type": "code",
   "execution_count": 14,
   "id": "6a8c8265",
   "metadata": {},
   "outputs": [
    {
     "name": "stdout",
     "output_type": "stream",
     "text": [
      "4372\n",
      "4372\n"
     ]
    }
   ],
   "source": [
    "print(len(y))\n",
    "print(len(y_true))"
   ]
  },
  {
   "cell_type": "code",
   "execution_count": 15,
   "id": "64193e12",
   "metadata": {},
   "outputs": [
    {
     "name": "stdout",
     "output_type": "stream",
     "text": [
      "[0, 1, 0, 0, 0, 0, 0, 0, 0, 0]\n",
      "[0, 1, 0, 0, 0, 0, 0, 0, 0, 0]\n"
     ]
    }
   ],
   "source": [
    "print(y[:10])\n",
    "print(y_true[:10])"
   ]
  },
  {
   "cell_type": "code",
   "execution_count": 16,
   "id": "8d0482f2",
   "metadata": {},
   "outputs": [
    {
     "name": "stdout",
     "output_type": "stream",
     "text": [
      "3926\n"
     ]
    }
   ],
   "source": [
    "c = 0\n",
    "for i in range(len(y)):\n",
    "    if (y[i] == 0 and y_true[i]==0) or (y[i]==y_true[i]):\n",
    "        c+=1\n",
    "print(c)"
   ]
  },
  {
   "cell_type": "code",
   "execution_count": 17,
   "id": "b0cb414d",
   "metadata": {},
   "outputs": [],
   "source": [
    "X_train, X_test, y_train, y_test = train_test_split(x, y_true, test_size=0.33, random_state=73, stratify = y_true)"
   ]
  },
  {
   "cell_type": "code",
   "execution_count": 18,
   "id": "1865c30f",
   "metadata": {},
   "outputs": [
    {
     "name": "stdout",
     "output_type": "stream",
     "text": [
      "(2929, 6)\n",
      "2929\n",
      "(1443, 6)\n",
      "1443\n"
     ]
    }
   ],
   "source": [
    "print(X_train.shape)\n",
    "print(len(y_train))\n",
    "print(X_test.shape)\n",
    "print(len(y_test))"
   ]
  },
  {
   "cell_type": "code",
   "execution_count": 19,
   "id": "a8ae6dc2",
   "metadata": {},
   "outputs": [
    {
     "data": {
      "text/plain": [
       "array([0.13518017, 0.09985061, 0.11127934, ..., 0.1002525 , 0.11847965,\n",
       "       0.13316591])"
      ]
     },
     "execution_count": 19,
     "metadata": {},
     "output_type": "execute_result"
    }
   ],
   "source": [
    "svr_model = SVR(kernel='rbf')\n",
    "svr_model.fit(X_train, y_train)\n",
    "y_pred = svr_model.predict(X_test)\n",
    "y_pred"
   ]
  },
  {
   "cell_type": "code",
   "execution_count": 20,
   "id": "cc79d290",
   "metadata": {},
   "outputs": [
    {
     "name": "stdout",
     "output_type": "stream",
     "text": [
      "Accuracy: 0.6964656964656964\n"
     ]
    }
   ],
   "source": [
    "y_pred_th = []\n",
    "\n",
    "for i in range(len(y_pred)):\n",
    "    if y_pred[i]>=0.5: y_pred_th.append(1)\n",
    "    else: y_pred_th.append(0)\n",
    "        \n",
    "acc_val = accuracy_score(y_test, y_pred_th)\n",
    "\n",
    "print(f'Accuracy: {acc_val}')"
   ]
  },
  {
   "cell_type": "code",
   "execution_count": 21,
   "id": "0e50bb96",
   "metadata": {},
   "outputs": [],
   "source": [
    "pkl_model_name = \"./models/rbf/best_rbf_model.pkl\"  \n",
    "\n",
    "with open(pkl_model_name, 'wb') as file:  \n",
    "    pickle.dump(svr_model, file)"
   ]
  },
  {
   "cell_type": "markdown",
   "id": "97d7725d",
   "metadata": {},
   "source": [
    "### Using mean zero - std 1"
   ]
  },
  {
   "cell_type": "code",
   "execution_count": 22,
   "id": "a8e4e481",
   "metadata": {},
   "outputs": [],
   "source": [
    "scaler_trn = StandardScaler()\n",
    "scaler_tst = StandardScaler()\n",
    "\n",
    "X_train_s = scaler_trn.fit_transform(X_train)\n",
    "X_test_s = scaler_tst.fit_transform(X_test)"
   ]
  },
  {
   "cell_type": "code",
   "execution_count": 23,
   "id": "495239c2",
   "metadata": {},
   "outputs": [
    {
     "data": {
      "text/plain": [
       "array([ 0.38734259,  0.16717465, -0.04873708, ...,  0.5867872 ,\n",
       "        0.30985903,  0.48934132])"
      ]
     },
     "execution_count": 23,
     "metadata": {},
     "output_type": "execute_result"
    }
   ],
   "source": [
    "svr_model = SVR(kernel='rbf')\n",
    "svr_model.fit(X_train_s, y_train)\n",
    "y_pred = svr_model.predict(X_test_s)\n",
    "y_pred"
   ]
  },
  {
   "cell_type": "code",
   "execution_count": 24,
   "id": "06ed55d6",
   "metadata": {},
   "outputs": [
    {
     "name": "stdout",
     "output_type": "stream",
     "text": [
      "Accuracy: 0.5821205821205822\n"
     ]
    }
   ],
   "source": [
    "y_pred_th = []\n",
    "\n",
    "for i in range(len(y_pred)):\n",
    "    if y_pred[i]>=0.5: y_pred_th.append(1)\n",
    "    else: y_pred_th.append(0)\n",
    "        \n",
    "acc_val = accuracy_score(y_test, y_pred_th)\n",
    "\n",
    "print(f'Accuracy: {acc_val}')"
   ]
  },
  {
   "cell_type": "markdown",
   "id": "885918fb",
   "metadata": {},
   "source": [
    "## Using DT CLF"
   ]
  },
  {
   "cell_type": "code",
   "execution_count": 23,
   "id": "ab866298",
   "metadata": {},
   "outputs": [],
   "source": [
    "from sklearn.tree import DecisionTreeClassifier"
   ]
  },
  {
   "cell_type": "code",
   "execution_count": 24,
   "id": "fc8e506a",
   "metadata": {},
   "outputs": [],
   "source": [
    "clf = DecisionTreeClassifier()\n",
    "\n",
    "# Train Decision Tree Classifer\n",
    "clf = clf.fit(X_train,y_train)\n",
    "\n",
    "#Predict the response for test dataset\n",
    "y_pred = clf.predict(X_test)"
   ]
  },
  {
   "cell_type": "code",
   "execution_count": 26,
   "id": "e67803ab",
   "metadata": {},
   "outputs": [
    {
     "name": "stdout",
     "output_type": "stream",
     "text": [
      "Accuracy: 0.6874566874566874\n"
     ]
    }
   ],
   "source": [
    "acc_val = accuracy_score(y_test, y_pred)\n",
    "\n",
    "print(f'Accuracy: {acc_val}')"
   ]
  },
  {
   "cell_type": "code",
   "execution_count": 28,
   "id": "696b2ed0",
   "metadata": {},
   "outputs": [
    {
     "data": {
      "text/plain": [
       "array([[0.8       , 0.2       ],\n",
       "       [0.79130435, 0.20869565],\n",
       "       [0.75      , 0.25      ],\n",
       "       ...,\n",
       "       [0.69601677, 0.30398323],\n",
       "       [0.625     , 0.375     ],\n",
       "       [0.        , 1.        ]])"
      ]
     },
     "execution_count": 28,
     "metadata": {},
     "output_type": "execute_result"
    }
   ],
   "source": [
    "y_pred_prob = clf.predict_proba(X_test)\n",
    "y_pred_prob"
   ]
  },
  {
   "cell_type": "markdown",
   "id": "22078bb1",
   "metadata": {},
   "source": [
    "# Using logistic model"
   ]
  },
  {
   "cell_type": "code",
   "execution_count": 29,
   "id": "62576559",
   "metadata": {},
   "outputs": [
    {
     "data": {
      "text/plain": [
       "LogisticRegression()"
      ]
     },
     "execution_count": 29,
     "metadata": {},
     "output_type": "execute_result"
    }
   ],
   "source": [
    "from sklearn.linear_model import LogisticRegression\n",
    "\n",
    "model = LogisticRegression()\n",
    "model.fit(X_train, y_train)"
   ]
  },
  {
   "cell_type": "code",
   "execution_count": 30,
   "id": "ff02543a",
   "metadata": {},
   "outputs": [
    {
     "data": {
      "text/plain": [
       "70.47817047817048"
      ]
     },
     "execution_count": 30,
     "metadata": {},
     "output_type": "execute_result"
    }
   ],
   "source": [
    "model.score(X_test, y_test)*100"
   ]
  },
  {
   "cell_type": "code",
   "execution_count": 31,
   "id": "282b8b16",
   "metadata": {},
   "outputs": [],
   "source": [
    "model_name = './models/logistic/best_logic_mod.sav'\n",
    "\n",
    "pickle.dump(model, open(model_name, 'wb'))"
   ]
  },
  {
   "cell_type": "code",
   "execution_count": 33,
   "id": "23682023",
   "metadata": {},
   "outputs": [
    {
     "data": {
      "text/html": [
       "<div>\n",
       "<style scoped>\n",
       "    .dataframe tbody tr th:only-of-type {\n",
       "        vertical-align: middle;\n",
       "    }\n",
       "\n",
       "    .dataframe tbody tr th {\n",
       "        vertical-align: top;\n",
       "    }\n",
       "\n",
       "    .dataframe thead th {\n",
       "        text-align: right;\n",
       "    }\n",
       "</style>\n",
       "<table border=\"1\" class=\"dataframe\">\n",
       "  <thead>\n",
       "    <tr style=\"text-align: right;\">\n",
       "      <th></th>\n",
       "      <th>201104</th>\n",
       "      <th>201105</th>\n",
       "      <th>201106</th>\n",
       "      <th>201107</th>\n",
       "      <th>201108</th>\n",
       "      <th>201109</th>\n",
       "    </tr>\n",
       "  </thead>\n",
       "  <tbody>\n",
       "    <tr>\n",
       "      <th>2465</th>\n",
       "      <td>0</td>\n",
       "      <td>1</td>\n",
       "      <td>0</td>\n",
       "      <td>1</td>\n",
       "      <td>0</td>\n",
       "      <td>1</td>\n",
       "    </tr>\n",
       "    <tr>\n",
       "      <th>930</th>\n",
       "      <td>0</td>\n",
       "      <td>0</td>\n",
       "      <td>0</td>\n",
       "      <td>1</td>\n",
       "      <td>0</td>\n",
       "      <td>0</td>\n",
       "    </tr>\n",
       "    <tr>\n",
       "      <th>381</th>\n",
       "      <td>0</td>\n",
       "      <td>0</td>\n",
       "      <td>2</td>\n",
       "      <td>0</td>\n",
       "      <td>0</td>\n",
       "      <td>1</td>\n",
       "    </tr>\n",
       "  </tbody>\n",
       "</table>\n",
       "</div>"
      ],
      "text/plain": [
       "      201104  201105  201106  201107  201108  201109\n",
       "2465       0       1       0       1       0       1\n",
       "930        0       0       0       1       0       0\n",
       "381        0       0       2       0       0       1"
      ]
     },
     "execution_count": 33,
     "metadata": {},
     "output_type": "execute_result"
    }
   ],
   "source": [
    "X_test.head(3)"
   ]
  },
  {
   "cell_type": "code",
   "execution_count": 36,
   "id": "2a3e9066",
   "metadata": {},
   "outputs": [
    {
     "name": "stdout",
     "output_type": "stream",
     "text": [
      "[0]\n",
      "[[0.53966477 0.46033523]]\n"
     ]
    }
   ],
   "source": [
    "best_model = pickle.load(open(model_name, 'rb'))\n",
    "\n",
    "print(best_model.predict([[0, 1, 1, 1, 1, 1]]))\n",
    "print(best_model.predict_proba([[0, 1, 1, 1, 1, 1]]))"
   ]
  },
  {
   "cell_type": "code",
   "execution_count": null,
   "id": "2fd6174d",
   "metadata": {},
   "outputs": [],
   "source": []
  }
 ],
 "metadata": {
  "kernelspec": {
   "display_name": "Python 3 (ipykernel)",
   "language": "python",
   "name": "python3"
  },
  "language_info": {
   "codemirror_mode": {
    "name": "ipython",
    "version": 3
   },
   "file_extension": ".py",
   "mimetype": "text/x-python",
   "name": "python",
   "nbconvert_exporter": "python",
   "pygments_lexer": "ipython3",
   "version": "3.8.12"
  }
 },
 "nbformat": 4,
 "nbformat_minor": 5
}
